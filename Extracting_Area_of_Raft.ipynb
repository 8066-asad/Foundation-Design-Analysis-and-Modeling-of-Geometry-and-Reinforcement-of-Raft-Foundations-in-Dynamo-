{
  "nbformat": 4,
  "nbformat_minor": 0,
  "metadata": {
    "colab": {
      "provenance": [], 
      "authorship_tag": "ABX9TyO5qXx2wGMJz82sGdSn3uPK",
      "include_colab_link": true
    },
    "kernelspec": {
      "name": "python3",
      "display_name": "Python 3"
    },
    "language_info": {
      "name": "python"
    }
  },
  "cells": [
    {
      "cell_type": "markdown",
      "metadata": {
        "id": "view-in-github",
        "colab_type": "text"
      },
      "source": [
        "<a href=\"https://colab.research.google.com/github/8066-asad/Foundation-Design-Analysis-and-Modeling-of-Geometry-and-Reinforcement-of-Raft-Foundations-in-Dynamo-/blob/main/Extracting_Area_of_Raft.ipynb\" target=\"_parent\"><img src=\"https://colab.research.google.com/assets/colab-badge.svg\" alt=\"Open In Colab\"/></a>"
      ]
    },
    {
      "cell_type": "code",
      "execution_count": null,
      "metadata": {
        "id": "rtnqmN1MyNtY"
      },
      "outputs": [],
      "source": [
        "# Load the Python Standard and Revit Libraries\n",
        "import clr\n",
        "import math\n",
        "\n",
        "clr.AddReference(\"RevitAPI\")\n",
        "clr.AddReference(\"RevitServices\")\n",
        "\n",
        "from RevitServices.Persistence import DocumentManager\n",
        "from Autodesk.Revit.DB import *\n",
        "\n",
        "# Get the current Revit document\n",
        "doc = DocumentManager.Instance.CurrentDBDocument\n",
        "\n",
        "def get_top_face_area(floor):\n",
        "    options = Options()\n",
        "    options.ComputeReferences = True\n",
        "    options.IncludeNonVisibleObjects = False\n",
        "\n",
        "    geometry_element = floor.get_Geometry(options)\n",
        "\n",
        "    for geo in geometry_element:\n",
        "        if isinstance(geo, Solid) and geo.Faces.Size > 0:\n",
        "            top_face = None\n",
        "            max_z = -1e6\n",
        "\n",
        "            for face in geo.Faces:\n",
        "                try:\n",
        "                    # Get UV midpoint and compute normal\n",
        "                    bbox = face.GetBoundingBox()\n",
        "                    u = (bbox.Min.U + bbox.Max.U) / 2\n",
        "                    v = (bbox.Min.V + bbox.Max.V) / 2\n",
        "                    uv = UV(u, v)\n",
        "                    normal = face.ComputeNormal(uv)\n",
        "\n",
        "                    # Check for upward facing face\n",
        "                    if normal.Z > 0.99:\n",
        "                        # Compute average Z height of triangulated mesh\n",
        "                        mesh = face.Triangulate()\n",
        "                        z_sum = 0\n",
        "                        for i in range(mesh.NumTriangles):\n",
        "                            tri = mesh.get_Triangle(i)\n",
        "                            for j in range(3):\n",
        "                                z_sum += tri.get_Vertex(j).Z\n",
        "                        avg_z = z_sum / (mesh.NumTriangles * 3)\n",
        "\n",
        "                        if avg_z > max_z:\n",
        "                            max_z = avg_z\n",
        "                            top_face = face\n",
        "                except:\n",
        "                    continue\n",
        "\n",
        "            if top_face:\n",
        "                return top_face.Area\n",
        "            else:\n",
        "                return None\n",
        "    return None\n",
        "\n",
        "# Collect all floor elements\n",
        "floors = FilteredElementCollector(doc).OfCategory(BuiltInCategory.OST_Floors).WhereElementIsNotElementType().ToElements()\n",
        "\n",
        "# Get the first floor element only\n",
        "first_floor = floors[0] if len(floors) > 0 else None\n",
        "\n",
        "if first_floor:\n",
        "    area_ft2 = get_top_face_area(first_floor)  # Area in ft²\n",
        "    if area_ft2:\n",
        "        length_ft = math.sqrt(area_ft2)        # Convert area to length in ft\n",
        "        length_mm = length_ft * 304.8           # Convert ft to mm\n",
        "        rounded_mm = round(length_mm, 2)        # Round to 2 decimal places\n",
        "        OUT = rounded_mm\n",
        "    else:\n",
        "        OUT = \"No top face area found\"\n",
        "else:\n",
        "    OUT = \"No floors found\"\n"
      ]
    }
  ]
}
