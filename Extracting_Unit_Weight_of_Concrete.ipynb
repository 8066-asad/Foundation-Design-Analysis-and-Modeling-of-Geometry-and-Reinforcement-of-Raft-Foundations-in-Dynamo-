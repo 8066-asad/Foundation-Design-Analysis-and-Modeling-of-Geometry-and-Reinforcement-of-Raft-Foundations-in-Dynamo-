{
  "nbformat": 4,
  "nbformat_minor": 0,
  "metadata": {
    "colab": {
      "provenance": [],
      "authorship_tag": "ABX9TyNkOY2P6yizZ/J+FMYlu41R",
      "include_colab_link": true
    },
    "kernelspec": {
      "name": "python3",
      "display_name": "Python 3"
    },
    "language_info": {
      "name": "python"
    }
  },
  "cells": [
    {
      "cell_type": "markdown",
      "metadata": {
        "id": "view-in-github",
        "colab_type": "text"
      },
      "source": [
        "<a href=\"https://colab.research.google.com/github/8066-asad/Foundation-Design-Analysis-and-Modeling-of-Geometry-and-Reinforcement-of-Raft-Foundations-in-Dynamo-/blob/main/Extracting_Unit_Weight_of_Concrete.ipynb\" target=\"_parent\"><img src=\"https://colab.research.google.com/assets/colab-badge.svg\" alt=\"Open In Colab\"/></a>"
      ]
    },
    {
      "cell_type": "code",
      "execution_count": null,
      "metadata": {
        "id": "pJcDK_Uwyuaq"
      },
      "outputs": [],
      "source": [
        "import clr\n",
        "clr.AddReference('RevitAPI')\n",
        "from Autodesk.Revit.DB import *\n",
        "\n",
        "clr.AddReference('RevitServices')\n",
        "from RevitServices.Persistence import DocumentManager\n",
        "\n",
        "# Inputs from Dynamo\n",
        "element = UnwrapElement(IN[0])  # Selected Revit element\n",
        "material_index = 0  # Index of the material to inspect if the element has multiple materials\n",
        "\n",
        "# Conversion Factor for Density\n",
        "kgft3_to_kgm3 = 35.3147\n",
        "\n",
        "# Get the active document\n",
        "doc = DocumentManager.Instance.CurrentDBDocument\n",
        "\n",
        "# Retrieve the material from the selected element\n",
        "material = None\n",
        "\n",
        "if isinstance(element, FamilyInstance) or isinstance(element, Wall):\n",
        "    # Handle specific element types to extract the material\n",
        "    material_ids = element.GetMaterialIds(False)\n",
        "    if len(material_ids) > material_index:\n",
        "        material = doc.GetElement(material_ids[material_index])\n",
        "\n",
        "if material is not None:\n",
        "    # Get Structural Asset Id\n",
        "    structural_asset_id = material.StructuralAssetId\n",
        "    if structural_asset_id != ElementId.InvalidElementId:\n",
        "        # Get Structural Asset\n",
        "        asset_element = doc.GetElement(structural_asset_id)\n",
        "        structural_asset = asset_element.GetStructuralAsset()\n",
        "\n",
        "        # Extract Density in kg/ft³\n",
        "        density_kgft3 = structural_asset.Density\n",
        "\n",
        "        # Convert to kg/m³\n",
        "        density_kgm3 = density_kgft3 * kgft3_to_kgm3\n",
        "    else:\n",
        "        density_kgm3 = \"No structural asset associated with the material\"\n",
        "else:\n",
        "    density_kgm3 = \"Material not found in the selected element\"\n",
        "#convert kg/m3 to KN/m3\n",
        "OUT = round(density_kgm3*0.009817,2)\n"
      ]
    }
  ]
}